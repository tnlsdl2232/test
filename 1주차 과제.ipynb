{
  "nbformat": 4,
  "nbformat_minor": 0,
  "metadata": {
    "colab": {
      "name": "Untitled1.ipynb",
      "provenance": [],
      "authorship_tag": "ABX9TyNiiSwpLGmF3U0jGB7NgJDD",
      "include_colab_link": true
    },
    "kernelspec": {
      "name": "python3",
      "display_name": "Python 3"
    }
  },
  "cells": [
    {
      "cell_type": "markdown",
      "metadata": {
        "id": "view-in-github",
        "colab_type": "text"
      },
      "source": [
        "<a href=\"https://colab.research.google.com/github/tnlsdl2232/test/blob/master/1%EC%A3%BC%EC%B0%A8%20%EA%B3%BC%EC%A0%9C.ipynb\" target=\"_parent\"><img src=\"https://colab.research.google.com/assets/colab-badge.svg\" alt=\"Open In Colab\"/></a>"
      ]
    },
    {
      "cell_type": "markdown",
      "metadata": {
        "id": "-TsI9bssBj9y",
        "colab_type": "text"
      },
      "source": [
        "#언어\n",
        "-언어통역기\n",
        "\n",
        "#음성\n",
        "-AI 스피커\n",
        "-AI TV\n",
        "\n",
        "#이미지\n",
        "-지문인식\n",
        "-홍채인식\n",
        "-무인스토어 셀프계산대\n",
        "-보안검색대\n",
        "\n",
        "#자율주행\n",
        "-자율주행자동차\n",
        "-무인배달로봇"
      ]
    }
  ]
}